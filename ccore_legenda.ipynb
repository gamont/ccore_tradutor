{
  "nbformat": 4,
  "nbformat_minor": 0,
  "metadata": {
    "colab": {
      "name": "Untitled3.ipynb",
      "provenance": [],
      "toc_visible": true
    },
    "kernelspec": {
      "name": "python3",
      "display_name": "Python 3"
    },
    "accelerator": "GPU"
  },
  "cells": [
    {
      "cell_type": "markdown",
      "metadata": {
        "id": "Qdm8x5NkEk6e",
        "colab_type": "text"
      },
      "source": [
        "# Lengendando qualquer filme em qualquer lingua de forma simples\n",
        "\n",
        "\n",
        "Instale as libraries"
      ]
    },
    {
      "cell_type": "code",
      "metadata": {
        "id": "8loQuEKGDyUT",
        "colab_type": "code",
        "colab": {}
      },
      "source": [
        "!pip install --upgrade youtube-dl\n",
        "!git clone https://github.com/agermanidis/autosub.git\n",
        "!pip install googletrans "
      ],
      "execution_count": 0,
      "outputs": []
    },
    {
      "cell_type": "code",
      "metadata": {
        "id": "mdfoSpvzYEB-",
        "colab_type": "code",
        "colab": {
          "base_uri": "https://localhost:8080/",
          "height": 34
        },
        "outputId": "2d2eb48b-be1e-40fc-8507-f2bbca92b813"
      },
      "source": [
        "cd ./autosub"
      ],
      "execution_count": 2,
      "outputs": [
        {
          "output_type": "stream",
          "text": [
            "/content/autosub\n"
          ],
          "name": "stdout"
        }
      ]
    },
    {
      "cell_type": "code",
      "metadata": {
        "id": "axKSMIMUYIvl",
        "colab_type": "code",
        "colab": {}
      },
      "source": [
        "!python setup.py install\n"
      ],
      "execution_count": 0,
      "outputs": []
    },
    {
      "cell_type": "code",
      "metadata": {
        "id": "JeAC_COBYKJp",
        "colab_type": "code",
        "colab": {}
      },
      "source": [
        "cd /content/"
      ],
      "execution_count": 0,
      "outputs": []
    },
    {
      "cell_type": "markdown",
      "metadata": {
        "id": "k1yZp13HE8h8",
        "colab_type": "text"
      },
      "source": [
        "# Traduzindo video do youtube - Quando ja possui \"tradução automatica\"\n",
        "1- baixar video(só faça isso com videos sem direitos autorais) :)\n",
        "  \n",
        "  \n",
        "O comando é:\n",
        "a)Quando ja possui tradução automatica:\n",
        "\n",
        "\n",
        "` !youtube-dl (link) --write-auto-sub  --sub-lang (lingua) --convert-subs srt --format mp4 -o video.mp4`\n",
        "\n",
        "\n",
        "b)Quando não possui tradução automatica:\n",
        "\n",
        "\n",
        "` !youtube-dl (link) --format mp4 -o video.mp4`\n",
        "\n",
        "\n",
        "\n",
        " "
      ]
    },
    {
      "cell_type": "code",
      "metadata": {
        "id": "MyvAhbaWIKsV",
        "colab_type": "code",
        "colab": {}
      },
      "source": [
        "!youtube-dl https://www.youtube.com/watch?v=fwrx8wrJNqk --write-auto-sub  --sub-lang en --convert-subs srt --format mp4 -o video.mp4"
      ],
      "execution_count": 0,
      "outputs": []
    },
    {
      "cell_type": "markdown",
      "metadata": {
        "id": "TorcJI0Qkrs6",
        "colab_type": "text"
      },
      "source": [
        "Adicionando legenda ao filme"
      ]
    },
    {
      "cell_type": "code",
      "metadata": {
        "id": "QgQdOzyGkqLE",
        "colab_type": "code",
        "colab": {}
      },
      "source": [
        "!ffmpeg -i video.mp4   -vcodec nvenc        -vf \"subtitles=/content/video.en.srt:force_style='Fontsize=22,PrimaryColour=&Hffffff,SecondaryColour=&Hffffff,OutlineColour=&H44000000,BackColour=&H0,BorderStyle=3,Shadow=0'\" final.mp4 "
      ],
      "execution_count": 0,
      "outputs": []
    },
    {
      "cell_type": "markdown",
      "metadata": {
        "id": "Ebb1sOVukwpM",
        "colab_type": "text"
      },
      "source": [
        "Cortando video"
      ]
    },
    {
      "cell_type": "code",
      "metadata": {
        "id": "B1DOWrqck0Fq",
        "colab_type": "code",
        "colab": {}
      },
      "source": [
        "!ffmpeg -i final.mp4  -vcodec nvenc  -t 140 -ss 60 final_cortado.mp4"
      ],
      "execution_count": 0,
      "outputs": []
    },
    {
      "cell_type": "markdown",
      "metadata": {
        "id": "-Kvy_0N4LHxO",
        "colab_type": "text"
      },
      "source": [
        "# Caso não possua legenda automatica\n",
        "vai usar o comando autosub, que irá extrair a legenda na lingua nativa, \n",
        "\n",
        "então você precisa rodar o comando:\n",
        "\n",
        "\n",
        "`!autosub video.mp4 -S pt -D pt` (no caso para extrair a legenda se o video for em portugues)\n",
        "\n",
        "\n",
        "`!autosub video.mp4 -S en -D en ` (no caso para extrair a legenda se o video for em ingles)\n"
      ]
    },
    {
      "cell_type": "markdown",
      "metadata": {
        "id": "liFGRyzgk7vx",
        "colab_type": "text"
      },
      "source": [
        "Baixando video(pode fazer upload tb)"
      ]
    },
    {
      "cell_type": "code",
      "metadata": {
        "id": "ie5Z21OPlFYw",
        "colab_type": "code",
        "colab": {}
      },
      "source": [
        "!youtube-dl https://www.youtube.com/watch?v=fwrx8wrJNqk --write-auto-sub  --sub-lang en --convert-subs srt --format mp4 -o video2.mp4"
      ],
      "execution_count": 0,
      "outputs": []
    },
    {
      "cell_type": "markdown",
      "metadata": {
        "id": "R0d7z-2JM1t1",
        "colab_type": "text"
      },
      "source": [
        "**Criando legenda**"
      ]
    },
    {
      "cell_type": "code",
      "metadata": {
        "id": "e-maDI0uL07r",
        "colab_type": "code",
        "colab": {}
      },
      "source": [
        "!autosub video2.mp4 -S pt -D pt"
      ],
      "execution_count": 0,
      "outputs": []
    },
    {
      "cell_type": "markdown",
      "metadata": {
        "id": "a8WZF5yaM6CS",
        "colab_type": "text"
      },
      "source": [
        "**Traduzindo a legenda**"
      ]
    },
    {
      "cell_type": "code",
      "metadata": {
        "id": "8qD-q8keM_vl",
        "colab_type": "code",
        "colab": {}
      },
      "source": [
        "from googletrans import Translator\n",
        "f = open(\"video2.srt\", \"r\")\n",
        "fulltext=''\n",
        "c=0\n",
        "temp=''\n",
        "t=f.readline()\n",
        "translator = Translator()\n",
        "t=translator.translate(t)\n",
        "for x in f:\n",
        "  c=c+1\n",
        "  temp=temp+x\n",
        "  if c>20:\n",
        "    c=0\n",
        "    l=translator.translate(temp)\n",
        "    fulltext=fulltext+l.text\n",
        "    temp=''\n",
        "l=translator.translate(temp)\n",
        "fulltext=fulltext+l.text\n",
        "fulltext=fulltext.replace(\": \", \":\").replace(\"->\", \"-->\")    \n",
        "s = open(\"video2.srt\", \"w\")\n",
        "s.write(fulltext)\n",
        "s.close()"
      ],
      "execution_count": 0,
      "outputs": []
    },
    {
      "cell_type": "markdown",
      "metadata": {
        "id": "2g7v7hZXlsHO",
        "colab_type": "text"
      },
      "source": [
        "**Adicionando Legenda**"
      ]
    },
    {
      "cell_type": "code",
      "metadata": {
        "id": "k1PWd2VMUxX6",
        "colab_type": "code",
        "colab": {}
      },
      "source": [
        "!ffmpeg -i video2.mp4   -vcodec nvenc        -vf \"subtitles=/content/video2.srt:force_style='Fontsize=22,PrimaryColour=&Hffffff,SecondaryColour=&Hffffff,OutlineColour=&H44000000,BackColour=&H0,BorderStyle=3,Shadow=0'\" final2.mp4 "
      ],
      "execution_count": 0,
      "outputs": []
    },
    {
      "cell_type": "markdown",
      "metadata": {
        "id": "lpeUPHt3X6iK",
        "colab_type": "text"
      },
      "source": [
        "**Cortando videos**\n",
        "\n",
        "\n",
        "```\n",
        "!ffmpeg -vcodec nvenc -i final.mp4 -t (TEMPO DO VIDEO) -ss (segundo de inicio) final_cortado.mp4\n",
        "```\n",
        "\n"
      ]
    },
    {
      "cell_type": "code",
      "metadata": {
        "id": "G8FIiC7lYUtn",
        "colab_type": "code",
        "colab": {}
      },
      "source": [
        "!ffmpeg -i final2.mp4  -vcodec nvenc  -t 140 -ss 60 final_cortado2.mp4"
      ],
      "execution_count": 0,
      "outputs": []
    }
  ]
}